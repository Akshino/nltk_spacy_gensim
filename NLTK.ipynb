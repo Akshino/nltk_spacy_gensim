{
  "nbformat": 4,
  "nbformat_minor": 0,
  "metadata": {
    "colab": {
      "provenance": []
    },
    "kernelspec": {
      "name": "python3",
      "display_name": "Python 3"
    },
    "language_info": {
      "name": "python"
    }
  },
  "cells": [
    {
      "cell_type": "code",
      "execution_count": 1,
      "metadata": {
        "colab": {
          "base_uri": "https://localhost:8080/"
        },
        "id": "y0xpL2JxTipN",
        "outputId": "f7d414c8-79ac-4914-f3b5-8e4ef6c946ad"
      },
      "outputs": [
        {
          "output_type": "stream",
          "name": "stderr",
          "text": [
            "[nltk_data] Downloading package punkt to /root/nltk_data...\n",
            "[nltk_data]   Unzipping tokenizers/punkt.zip.\n",
            "[nltk_data] Downloading package wordnet to /root/nltk_data...\n",
            "[nltk_data] Downloading package stopwords to /root/nltk_data...\n",
            "[nltk_data]   Unzipping corpora/stopwords.zip.\n"
          ]
        },
        {
          "output_type": "stream",
          "name": "stdout",
          "text": [
            "Enter the text to be processed: My Name is Akshino\n",
            "\n",
            "Tokens: ['My', 'Name', 'is', 'Akshino']\n",
            "\n",
            "Stemmed Tokens: ['my', 'name', 'is', 'akshino']\n",
            "\n",
            "Lemmatized Tokens: ['My', 'Name', 'is', 'Akshino']\n",
            "\n",
            "Filtered Tokens (Stop Words Removed): ['Name', 'Akshino']\n"
          ]
        }
      ],
      "source": [
        "import nltk\n",
        "from nltk.tokenize import word_tokenize\n",
        "from nltk.stem import PorterStemmer\n",
        "from nltk.stem import WordNetLemmatizer\n",
        "from nltk.corpus import stopwords\n",
        "\n",
        "# Download necessary nltk resources\n",
        "nltk.download('punkt')\n",
        "nltk.download('wordnet')\n",
        "nltk.download('stopwords')\n",
        "\n",
        "# Take input from the user\n",
        "text = input(\"Enter the text to be processed: \")\n",
        "\n",
        "# Tokenization\n",
        "tokens = word_tokenize(text)\n",
        "print(f\"\\nTokens: {tokens}\")\n",
        "\n",
        "# Stemming\n",
        "stemmer = PorterStemmer()\n",
        "stemmed_tokens = [stemmer.stem(token) for token in tokens]\n",
        "print(f\"\\nStemmed Tokens: {stemmed_tokens}\")\n",
        "\n",
        "# Lemmatization\n",
        "lemmatizer = WordNetLemmatizer()\n",
        "lemmatized_tokens = [lemmatizer.lemmatize(token) for token in tokens]\n",
        "print(f\"\\nLemmatized Tokens: {lemmatized_tokens}\")\n",
        "\n",
        "# Stop word removal\n",
        "stop_words = set(stopwords.words('english'))\n",
        "filtered_tokens = [token for token in tokens if token.lower() not in stop_words]\n",
        "print(f\"\\nFiltered Tokens (Stop Words Removed): {filtered_tokens}\")"
      ]
    }
  ]
}